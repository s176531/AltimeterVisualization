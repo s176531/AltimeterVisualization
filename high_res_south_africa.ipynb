{
 "cells": [
  {
   "cell_type": "code",
   "execution_count": null,
   "metadata": {},
   "outputs": [],
   "source": [
    "import xarray as xr\n",
    "import numpy as np\n",
    "from pathlib import Path\n",
    "import matplotlib.pyplot as plt\n",
    "import scienceplots\n",
    "from tqdm import tqdm\n",
    "import cmcrameri.cm as cmc\n",
    "import cartopy.crs as ccrs\n",
    "\n",
    "plt.style.use(['science'])"
   ]
  },
  {
   "cell_type": "code",
   "execution_count": null,
   "metadata": {},
   "outputs": [],
   "source": [
    "fpath = Path(r\"C:\\Users\\mathi\\OneDrive\\Dokumenter\\DTU\\Kandidat\\Syntese\\AltimeterGridding\\Grids\\high_res_grids_v7\")\n",
    "datas = []\n",
    "for file in fpath.glob(\"2014_9_28.nc\"):\n",
    "    datas.append(xr.open_dataset(file))\n",
    "data = xr.concat(datas, dim=\"time\")\n",
    "data = data.sortby(\"time\")"
   ]
  },
  {
   "cell_type": "code",
   "execution_count": null,
   "metadata": {},
   "outputs": [],
   "source": [
    "mss21_path = Path(r\"C:\\Users\\mathi\\Danmarks Tekniske Universitet\\Casper Tygesen Bang-Hansen - ProcessedGrids\\mss_DTU21-15_fullres.nc\")\n",
    "mss21 = xr.load_dataarray(mss21_path)"
   ]
  },
  {
   "cell_type": "code",
   "execution_count": null,
   "metadata": {},
   "outputs": [],
   "source": [
    "mss21_downsampled = mss21.coarsen(Longitude=10).mean().coarsen(Latitude=10).mean()"
   ]
  },
  {
   "cell_type": "code",
   "execution_count": null,
   "metadata": {},
   "outputs": [],
   "source": [
    "lat_idx = (mss21_downsampled.lat[:,0] <= -25) & (mss21_downsampled.lat[:,0] >= -45)\n",
    "lon_idx = (mss21_downsampled.lon[0]+180 <= 45) & (mss21_downsampled.lon[0]+180 >= 5)\n",
    "mss21_area = mss21_downsampled.sel(Latitude = lat_idx, Longitude = lon_idx)"
   ]
  },
  {
   "cell_type": "code",
   "execution_count": null,
   "metadata": {},
   "outputs": [],
   "source": [
    "plt.figure(figsize=(13,6))\n",
    "plt.imshow(mss21,vmin=-.1, vmax=.1,cmap=cmc.vik)\n",
    "plt.colorbar()\n",
    "plt.show()"
   ]
  },
  {
   "cell_type": "code",
   "execution_count": null,
   "metadata": {},
   "outputs": [],
   "source": [
    "data[\"sla21\"] = data.sla - mss21_area.values[::-1]"
   ]
  },
  {
   "cell_type": "code",
   "execution_count": null,
   "metadata": {},
   "outputs": [],
   "source": [
    "cmap=cmc.vik\n",
    "vlim = 0.75\n",
    "\n",
    "title_size = 20\n",
    "label_size = 14\n",
    "tick_size = 12\n",
    "\n",
    "# extent = [data.Longitude.min().item(), data.Longitude.max().item(), data.Latitude.min().item(), data.Latitude.max().item()]\n",
    "extent = [5,45,-45,-25]\n",
    "\n",
    "fig = plt.figure(figsize=(13,6), dpi=500)\n",
    "ax = plt.axes(projection=ccrs.PlateCarree())\n",
    "im=ax.imshow(\n",
    "    data.sla21[0], \n",
    "    origin=\"lower\", \n",
    "    extent=extent, \n",
    "    vmin=-vlim, \n",
    "    vmax=vlim, \n",
    "    cmap=cmap,\n",
    "    transform=ccrs.PlateCarree()\n",
    ")\n",
    "ax.set_xlabel(f\"Longitude [\\N{DEGREE SIGN}]\", fontsize=label_size)\n",
    "ax.set_ylabel(f\"Latitude [\\N{DEGREE SIGN}]\", fontsize=label_size)\n",
    "ax.coastlines()\n",
    "# ax.set_extent(extent)\n",
    "ax.set_xticks([5, 15, 25, 35, 45])\n",
    "ax.set_yticks([-45, -40, -35, -30, -25])\n",
    "ax.tick_params(labelsize=tick_size)\n",
    "cbar = fig.colorbar(im)\n",
    "cbar.set_label(\"SLA [cm]\", fontsize=label_size)\n",
    "cbar.ax.tick_params(labelsize=tick_size)\n",
    "title_text = f\"{data.time[0].values.astype('datetime64[ns]').astype('datetime64[D]')}\"\n",
    "ax.set_title(title_text, fontsize=title_size)\n",
    "plt.show()"
   ]
  },
  {
   "cell_type": "code",
   "execution_count": null,
   "metadata": {},
   "outputs": [],
   "source": [
    "data_poor_res = Path(r\"C:\\Users\\mathi\\Danmarks Tekniske Universitet\\Casper Tygesen Bang-Hansen - ProcessedGrids\", \"without_polar_v6_mss21.nc\")\n",
    "data_poor_all = xr.open_dataset(data_poor_res, engine=\"netcdf4\")\n",
    "data_poor = data_poor_all.sel(time = (data_poor_all.time == np.datetime64(\"2014-09-28T12:00:00.000000000\")))\n",
    "\n",
    "lat_idxp = (data_poor.Latitude[:,0] <= -25) & (data_poor.Latitude[:,0] >= -45)\n",
    "lon_idxp = (data_poor.Longitude[0] <= 45) & (data_poor.Longitude[0] >= 5)\n",
    "data_poor_area = data_poor.sel(lats = lat_idxp, lons = lon_idxp)"
   ]
  },
  {
   "cell_type": "code",
   "execution_count": null,
   "metadata": {},
   "outputs": [],
   "source": [
    "cmap=cmc.vik\n",
    "vlim = 0.75\n",
    "\n",
    "title_size = 20\n",
    "label_size = 14\n",
    "tick_size = 12\n",
    "\n",
    "# extent = [data.Longitude.min().item(), data.Longitude.max().item(), data.Latitude.min().item(), data.Latitude.max().item()]\n",
    "extent = [5,45,-45,-25]\n",
    "\n",
    "fig = plt.figure(figsize=(13,6), dpi=500)\n",
    "ax = plt.axes(projection=ccrs.PlateCarree())\n",
    "im=ax.imshow(\n",
    "    data_poor_area.sla[0], \n",
    "    origin=\"lower\", \n",
    "    extent=extent, \n",
    "    vmin=-vlim, \n",
    "    vmax=vlim, \n",
    "    cmap=cmap,\n",
    "    transform=ccrs.PlateCarree()\n",
    ")\n",
    "ax.set_xlabel(f\"Longitude [\\N{DEGREE SIGN}]\", fontsize=label_size)\n",
    "ax.set_ylabel(f\"Latitude [\\N{DEGREE SIGN}]\", fontsize=label_size)\n",
    "ax.coastlines()\n",
    "# ax.set_extent(extent)\n",
    "ax.set_xticks([5, 15, 25, 35, 45])\n",
    "ax.set_yticks([-45, -40, -35, -30, -25])\n",
    "ax.tick_params(labelsize=tick_size)\n",
    "cbar = fig.colorbar(im)\n",
    "cbar.set_label(\"SLA [cm]\", fontsize=label_size)\n",
    "cbar.ax.tick_params(labelsize=tick_size)\n",
    "title_text = f\"{data.time[0].values.astype('datetime64[ns]').astype('datetime64[D]')}\"\n",
    "ax.set_title(title_text, fontsize=title_size)\n",
    "plt.show()"
   ]
  },
  {
   "cell_type": "code",
   "execution_count": null,
   "metadata": {},
   "outputs": [],
   "source": [
    "cmap=cmc.vik\n",
    "vlim = 0.1\n",
    "\n",
    "title_size = 20\n",
    "label_size = 14\n",
    "tick_size = 12\n",
    "\n",
    "# extent = [data.Longitude.min().item(), data.Longitude.max().item(), data.Latitude.min().item(), data.Latitude.max().item()]\n",
    "extent = [5,45,-45,-25]\n",
    "\n",
    "fig = plt.figure(figsize=(13,6), dpi=500)\n",
    "ax = plt.axes(projection=ccrs.PlateCarree())\n",
    "im=ax.imshow(\n",
    "    mss21_area, \n",
    "    extent=extent, \n",
    "    vmin=-vlim, \n",
    "    vmax=vlim, \n",
    "    cmap=cmap,\n",
    "    transform=ccrs.PlateCarree()\n",
    ")\n",
    "ax.set_xlabel(f\"Longitude [\\N{DEGREE SIGN}]\", fontsize=label_size)\n",
    "ax.set_ylabel(f\"Latitude [\\N{DEGREE SIGN}]\", fontsize=label_size)\n",
    "ax.coastlines()\n",
    "# ax.set_extent(extent)\n",
    "ax.set_xticks([5, 15, 25, 35, 45])\n",
    "ax.set_yticks([-45, -40, -35, -30, -25])\n",
    "ax.tick_params(labelsize=tick_size)\n",
    "cbar = fig.colorbar(im)\n",
    "cbar.set_label(\"SLA [cm]\", fontsize=label_size)\n",
    "cbar.ax.tick_params(labelsize=tick_size)\n",
    "title_text = f\"{data.time[0].values.astype('datetime64[ns]').astype('datetime64[D]')}\"\n",
    "ax.set_title(title_text, fontsize=title_size)\n",
    "plt.show()"
   ]
  }
 ],
 "metadata": {
  "kernelspec": {
   "display_name": "Python 3",
   "language": "python",
   "name": "python3"
  },
  "language_info": {
   "codemirror_mode": {
    "name": "ipython",
    "version": 3
   },
   "file_extension": ".py",
   "mimetype": "text/x-python",
   "name": "python",
   "nbconvert_exporter": "python",
   "pygments_lexer": "ipython3",
   "version": "3.9.13"
  },
  "orig_nbformat": 4
 },
 "nbformat": 4,
 "nbformat_minor": 2
}
