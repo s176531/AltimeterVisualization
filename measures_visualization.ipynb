{
 "cells": [
  {
   "cell_type": "code",
   "execution_count": null,
   "metadata": {},
   "outputs": [],
   "source": [
    "import matplotlib.pyplot as plt\n",
    "import cartopy.crs as ccrs\n",
    "import cmcrameri.cm as cmc\n",
    "import xarray as xr\n",
    "import numpy as np\n",
    "from pathlib import Path"
   ]
  },
  {
   "cell_type": "code",
   "execution_count": null,
   "metadata": {},
   "outputs": [],
   "source": [
    "filepath = Path(r\"C:\\Users\\mathi\\Danmarks Tekniske Universitet\\Casper Tygesen Bang-Hansen - ProcessedGrids\\MEaSUREs\")\n",
    "data = xr.load_dataset(filepath / Path(\"ssh_grids_v2205_2014030412.nc\"), engine=\"netcdf4\")\n"
   ]
  },
  {
   "cell_type": "code",
   "execution_count": null,
   "metadata": {},
   "outputs": [],
   "source": [
    "vlim = .75\n",
    "extent = [5.5, 45.5, -45, -25]\n",
    "lon_idx = (data.Longitude > extent[0]) & (data.Longitude < extent[1])\n",
    "lat_idx = (data.Latitude > extent[2]) & (data.Latitude < extent[3])\n",
    "# area_data = data.sel(Longitude = , Latitude = )\n",
    "area_sla = data.SLA[0,lat_idx,lon_idx]\n",
    "\n",
    "plt.figure(figsize=(14, 5), dpi=500)\n",
    "plt.imshow(area_sla, origin=\"lower\", extent=extent, vmin=-vlim, vmax=vlim, cmap=cmc.vik)\n",
    "plt.xlabel(f\"Longitude [\\N{DEGREE SIGN}]\")\n",
    "plt.ylabel(f\"Latitude [\\N{DEGREE SIGN}]\")\n",
    "plt.colorbar()\n",
    "plt.title(data.Time.values.astype(\"datetime64[D]\")[0])\n",
    "plt.show()"
   ]
  },
  {
   "cell_type": "code",
   "execution_count": null,
   "metadata": {},
   "outputs": [],
   "source": [
    "data"
   ]
  },
  {
   "cell_type": "code",
   "execution_count": null,
   "metadata": {},
   "outputs": [],
   "source": []
  },
  {
   "cell_type": "code",
   "execution_count": null,
   "metadata": {},
   "outputs": [],
   "source": []
  }
 ],
 "metadata": {
  "kernelspec": {
   "display_name": "Python 3",
   "language": "python",
   "name": "python3"
  },
  "language_info": {
   "codemirror_mode": {
    "name": "ipython",
    "version": 3
   },
   "file_extension": ".py",
   "mimetype": "text/x-python",
   "name": "python",
   "nbconvert_exporter": "python",
   "pygments_lexer": "ipython3",
   "version": "3.9.13"
  },
  "orig_nbformat": 4
 },
 "nbformat": 4,
 "nbformat_minor": 2
}
